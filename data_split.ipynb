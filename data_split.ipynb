{
 "cells": [
  {
   "cell_type": "code",
   "execution_count": 4,
   "metadata": {},
   "outputs": [],
   "source": [
    "import pandas as pd\n",
    "import numpy as np\n",
    "import os"
   ]
  },
  {
   "cell_type": "code",
   "execution_count": 5,
   "metadata": {},
   "outputs": [],
   "source": [
    "df = pd.read_csv(\"cleaned_data.csv\")"
   ]
  },
  {
   "cell_type": "code",
   "execution_count": 3,
   "metadata": {},
   "outputs": [
    {
     "name": "stdout",
     "output_type": "stream",
     "text": [
      "All chunks have been saved.\n"
     ]
    }
   ],
   "source": [
    "# Define the total number of files to split into\n",
    "num_files = 10000\n",
    "\n",
    "# Calculate the number of rows per file\n",
    "rows_per_file = max(1, len(df) // num_files)  # Ensure at least 1 row per file\n",
    "\n",
    "# Create a directory to save the chunks\n",
    "output_dir = 'data_chunks'\n",
    "os.makedirs(output_dir, exist_ok=True)\n",
    "\n",
    "# Initialize the starting index\n",
    "start_idx = 0\n",
    "\n",
    "# Loop through the DataFrame and split it into chunks\n",
    "for file_num in range(1, num_files + 1):\n",
    "    # Calculate the end index for the current chunk\n",
    "    end_idx = start_idx + rows_per_file\n",
    "    \n",
    "    # Ensure the last chunk includes any remaining rows\n",
    "    if file_num == num_files:\n",
    "        end_idx = len(df)\n",
    "    \n",
    "    # Get the current chunk\n",
    "    chunk = df[start_idx:end_idx]\n",
    "    \n",
    "    # Save the chunk to a CSV file\n",
    "    chunk_filename = os.path.join(output_dir, f'chunk_{file_num}.csv')\n",
    "    chunk.to_csv(chunk_filename, index=False)\n",
    "    \n",
    "    # Remove the chunk from the main DataFrame to free up memory\n",
    "    df.drop(df.index[start_idx:end_idx], inplace=True)\n",
    "    \n",
    "    # Reset the index of the main DataFrame\n",
    "    df.reset_index(drop=True, inplace=True)\n",
    "    \n",
    "    # Update the starting index for the next chunk\n",
    "    start_idx = end_idx\n",
    "\n",
    "\n",
    "print('All chunks have been saved.')"
   ]
  },
  {
   "cell_type": "code",
   "execution_count": null,
   "metadata": {},
   "outputs": [
    {
     "data": {
      "text/plain": [
       "(719998, 23)"
      ]
     },
     "execution_count": 5,
     "metadata": {},
     "output_type": "execute_result"
    }
   ],
   "source": [
    "df.shape "
   ]
  },
  {
   "cell_type": "code",
   "execution_count": null,
   "metadata": {},
   "outputs": [],
   "source": []
  }
 ],
 "metadata": {
  "kernelspec": {
   "display_name": "base",
   "language": "python",
   "name": "python3"
  },
  "language_info": {
   "codemirror_mode": {
    "name": "ipython",
    "version": 3
   },
   "file_extension": ".py",
   "mimetype": "text/x-python",
   "name": "python",
   "nbconvert_exporter": "python",
   "pygments_lexer": "ipython3",
   "version": "3.12.7"
  }
 },
 "nbformat": 4,
 "nbformat_minor": 2
}
